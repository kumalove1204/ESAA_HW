{
  "nbformat": 4,
  "nbformat_minor": 0,
  "metadata": {
    "anaconda-cloud": {},
    "kernelspec": {
      "display_name": "Python [default]",
      "language": "python",
      "name": "python2"
    },
    "language_info": {
      "codemirror_mode": {
        "name": "ipython",
        "version": 2
      },
      "file_extension": ".py",
      "mimetype": "text/x-python",
      "name": "python",
      "nbconvert_exporter": "python",
      "pygments_lexer": "ipython2",
      "version": "2.7.12"
    },
    "colab": {
      "name": "apple_Exercises(10.04).ipynb",
      "provenance": [],
      "collapsed_sections": [],
      "include_colab_link": true
    }
  },
  "cells": [
    {
      "cell_type": "markdown",
      "metadata": {
        "id": "view-in-github",
        "colab_type": "text"
      },
      "source": [
        "<a href=\"https://colab.research.google.com/github/kumalove1204/ESAA_HW/blob/main/apple_Exercises(10_04).ipynb\" target=\"_parent\"><img src=\"https://colab.research.google.com/assets/colab-badge.svg\" alt=\"Open In Colab\"/></a>"
      ]
    },
    {
      "cell_type": "markdown",
      "metadata": {
        "id": "on6xgUECVXIz"
      },
      "source": [
        "# Apple Stock"
      ]
    },
    {
      "cell_type": "markdown",
      "metadata": {
        "id": "yRb05F3RVXJI"
      },
      "source": [
        "### Introduction:\n",
        "\n",
        "We are going to use Apple's stock price.\n",
        "\n",
        "\n",
        "### Step 1. Import the necessary libraries"
      ]
    },
    {
      "cell_type": "code",
      "metadata": {
        "id": "4g8N0RkRVXJN"
      },
      "source": [
        "import pandas as pd\n",
        "import numpy as np\n",
        "\n",
        "# visualization\n",
        "import matplotlib.pyplot as plt\n",
        "\n",
        "%matplotlib inline"
      ],
      "execution_count": 60,
      "outputs": []
    },
    {
      "cell_type": "markdown",
      "metadata": {
        "id": "PadQE1mnVXJS"
      },
      "source": [
        "### Step 2. Import the dataset from this [address](https://raw.githubusercontent.com/guipsamora/pandas_exercises/master/09_Time_Series/Apple_Stock/appl_1980_2014.csv)"
      ]
    },
    {
      "cell_type": "code",
      "metadata": {
        "collapsed": true,
        "id": "jFE0126tVXJU",
        "colab": {
          "base_uri": "https://localhost:8080/",
          "height": 203
        },
        "outputId": "d7ee234d-779a-4580-edb2-9d1cc99fe04a"
      },
      "source": [
        "url = 'https://raw.githubusercontent.com/guipsamora/pandas_exercises/master/09_Time_Series/Apple_Stock/appl_1980_2014.csv'\n",
        "data = pd.read_csv(url)\n",
        "\n",
        "data.head()"
      ],
      "execution_count": 68,
      "outputs": [
        {
          "output_type": "execute_result",
          "data": {
            "text/plain": [
              "         Date   Open   High    Low  Close    Volume  Adj Close\n",
              "0  2014-07-08  96.27  96.80  93.92  95.35  65130000      95.35\n",
              "1  2014-07-07  94.14  95.99  94.10  95.97  56305400      95.97\n",
              "2  2014-07-03  93.67  94.10  93.20  94.03  22891800      94.03\n",
              "3  2014-07-02  93.87  94.06  93.09  93.48  28420900      93.48\n",
              "4  2014-07-01  93.52  94.07  93.13  93.52  38170200      93.52"
            ],
            "text/html": [
              "<div>\n",
              "<style scoped>\n",
              "    .dataframe tbody tr th:only-of-type {\n",
              "        vertical-align: middle;\n",
              "    }\n",
              "\n",
              "    .dataframe tbody tr th {\n",
              "        vertical-align: top;\n",
              "    }\n",
              "\n",
              "    .dataframe thead th {\n",
              "        text-align: right;\n",
              "    }\n",
              "</style>\n",
              "<table border=\"1\" class=\"dataframe\">\n",
              "  <thead>\n",
              "    <tr style=\"text-align: right;\">\n",
              "      <th></th>\n",
              "      <th>Date</th>\n",
              "      <th>Open</th>\n",
              "      <th>High</th>\n",
              "      <th>Low</th>\n",
              "      <th>Close</th>\n",
              "      <th>Volume</th>\n",
              "      <th>Adj Close</th>\n",
              "    </tr>\n",
              "  </thead>\n",
              "  <tbody>\n",
              "    <tr>\n",
              "      <th>0</th>\n",
              "      <td>2014-07-08</td>\n",
              "      <td>96.27</td>\n",
              "      <td>96.80</td>\n",
              "      <td>93.92</td>\n",
              "      <td>95.35</td>\n",
              "      <td>65130000</td>\n",
              "      <td>95.35</td>\n",
              "    </tr>\n",
              "    <tr>\n",
              "      <th>1</th>\n",
              "      <td>2014-07-07</td>\n",
              "      <td>94.14</td>\n",
              "      <td>95.99</td>\n",
              "      <td>94.10</td>\n",
              "      <td>95.97</td>\n",
              "      <td>56305400</td>\n",
              "      <td>95.97</td>\n",
              "    </tr>\n",
              "    <tr>\n",
              "      <th>2</th>\n",
              "      <td>2014-07-03</td>\n",
              "      <td>93.67</td>\n",
              "      <td>94.10</td>\n",
              "      <td>93.20</td>\n",
              "      <td>94.03</td>\n",
              "      <td>22891800</td>\n",
              "      <td>94.03</td>\n",
              "    </tr>\n",
              "    <tr>\n",
              "      <th>3</th>\n",
              "      <td>2014-07-02</td>\n",
              "      <td>93.87</td>\n",
              "      <td>94.06</td>\n",
              "      <td>93.09</td>\n",
              "      <td>93.48</td>\n",
              "      <td>28420900</td>\n",
              "      <td>93.48</td>\n",
              "    </tr>\n",
              "    <tr>\n",
              "      <th>4</th>\n",
              "      <td>2014-07-01</td>\n",
              "      <td>93.52</td>\n",
              "      <td>94.07</td>\n",
              "      <td>93.13</td>\n",
              "      <td>93.52</td>\n",
              "      <td>38170200</td>\n",
              "      <td>93.52</td>\n",
              "    </tr>\n",
              "  </tbody>\n",
              "</table>\n",
              "</div>"
            ]
          },
          "metadata": {},
          "execution_count": 68
        }
      ]
    },
    {
      "cell_type": "markdown",
      "metadata": {
        "id": "0szUfJRXVXJY"
      },
      "source": [
        "### Step 3. Assign it to a variable apple"
      ]
    },
    {
      "cell_type": "code",
      "metadata": {
        "id": "-OGkJEZNVXJa",
        "colab": {
          "base_uri": "https://localhost:8080/",
          "height": 203
        },
        "outputId": "248f72c6-c203-43fb-b626-51d93e65940c"
      },
      "source": [
        "apple = data\n",
        "apple.head()"
      ],
      "execution_count": 69,
      "outputs": [
        {
          "output_type": "execute_result",
          "data": {
            "text/plain": [
              "         Date   Open   High    Low  Close    Volume  Adj Close\n",
              "0  2014-07-08  96.27  96.80  93.92  95.35  65130000      95.35\n",
              "1  2014-07-07  94.14  95.99  94.10  95.97  56305400      95.97\n",
              "2  2014-07-03  93.67  94.10  93.20  94.03  22891800      94.03\n",
              "3  2014-07-02  93.87  94.06  93.09  93.48  28420900      93.48\n",
              "4  2014-07-01  93.52  94.07  93.13  93.52  38170200      93.52"
            ],
            "text/html": [
              "<div>\n",
              "<style scoped>\n",
              "    .dataframe tbody tr th:only-of-type {\n",
              "        vertical-align: middle;\n",
              "    }\n",
              "\n",
              "    .dataframe tbody tr th {\n",
              "        vertical-align: top;\n",
              "    }\n",
              "\n",
              "    .dataframe thead th {\n",
              "        text-align: right;\n",
              "    }\n",
              "</style>\n",
              "<table border=\"1\" class=\"dataframe\">\n",
              "  <thead>\n",
              "    <tr style=\"text-align: right;\">\n",
              "      <th></th>\n",
              "      <th>Date</th>\n",
              "      <th>Open</th>\n",
              "      <th>High</th>\n",
              "      <th>Low</th>\n",
              "      <th>Close</th>\n",
              "      <th>Volume</th>\n",
              "      <th>Adj Close</th>\n",
              "    </tr>\n",
              "  </thead>\n",
              "  <tbody>\n",
              "    <tr>\n",
              "      <th>0</th>\n",
              "      <td>2014-07-08</td>\n",
              "      <td>96.27</td>\n",
              "      <td>96.80</td>\n",
              "      <td>93.92</td>\n",
              "      <td>95.35</td>\n",
              "      <td>65130000</td>\n",
              "      <td>95.35</td>\n",
              "    </tr>\n",
              "    <tr>\n",
              "      <th>1</th>\n",
              "      <td>2014-07-07</td>\n",
              "      <td>94.14</td>\n",
              "      <td>95.99</td>\n",
              "      <td>94.10</td>\n",
              "      <td>95.97</td>\n",
              "      <td>56305400</td>\n",
              "      <td>95.97</td>\n",
              "    </tr>\n",
              "    <tr>\n",
              "      <th>2</th>\n",
              "      <td>2014-07-03</td>\n",
              "      <td>93.67</td>\n",
              "      <td>94.10</td>\n",
              "      <td>93.20</td>\n",
              "      <td>94.03</td>\n",
              "      <td>22891800</td>\n",
              "      <td>94.03</td>\n",
              "    </tr>\n",
              "    <tr>\n",
              "      <th>3</th>\n",
              "      <td>2014-07-02</td>\n",
              "      <td>93.87</td>\n",
              "      <td>94.06</td>\n",
              "      <td>93.09</td>\n",
              "      <td>93.48</td>\n",
              "      <td>28420900</td>\n",
              "      <td>93.48</td>\n",
              "    </tr>\n",
              "    <tr>\n",
              "      <th>4</th>\n",
              "      <td>2014-07-01</td>\n",
              "      <td>93.52</td>\n",
              "      <td>94.07</td>\n",
              "      <td>93.13</td>\n",
              "      <td>93.52</td>\n",
              "      <td>38170200</td>\n",
              "      <td>93.52</td>\n",
              "    </tr>\n",
              "  </tbody>\n",
              "</table>\n",
              "</div>"
            ]
          },
          "metadata": {},
          "execution_count": 69
        }
      ]
    },
    {
      "cell_type": "markdown",
      "metadata": {
        "id": "TBxUymvFVXJc"
      },
      "source": [
        "### Step 4.  Check out the type of the columns"
      ]
    },
    {
      "cell_type": "code",
      "metadata": {
        "id": "hh_Qct_DVXJg",
        "colab": {
          "base_uri": "https://localhost:8080/"
        },
        "outputId": "7f124c57-a9dd-4968-8630-f8362c063883"
      },
      "source": [
        "apple.info()\n",
        "print(' ')\n",
        "apple.dtypes"
      ],
      "execution_count": 70,
      "outputs": [
        {
          "output_type": "stream",
          "name": "stdout",
          "text": [
            "<class 'pandas.core.frame.DataFrame'>\n",
            "RangeIndex: 8465 entries, 0 to 8464\n",
            "Data columns (total 7 columns):\n",
            "Date         8465 non-null object\n",
            "Open         8465 non-null float64\n",
            "High         8465 non-null float64\n",
            "Low          8465 non-null float64\n",
            "Close        8465 non-null float64\n",
            "Volume       8465 non-null int64\n",
            "Adj Close    8465 non-null float64\n",
            "dtypes: float64(5), int64(1), object(1)\n",
            "memory usage: 463.0+ KB\n",
            " \n"
          ]
        },
        {
          "output_type": "execute_result",
          "data": {
            "text/plain": [
              "Date          object\n",
              "Open         float64\n",
              "High         float64\n",
              "Low          float64\n",
              "Close        float64\n",
              "Volume         int64\n",
              "Adj Close    float64\n",
              "dtype: object"
            ]
          },
          "metadata": {},
          "execution_count": 70
        }
      ]
    },
    {
      "cell_type": "markdown",
      "metadata": {
        "id": "gSo835mZVXJj"
      },
      "source": [
        "### Step 5. Transform the Date column as a datetime type"
      ]
    },
    {
      "cell_type": "code",
      "metadata": {
        "id": "TZHt_GTCVXJm",
        "colab": {
          "base_uri": "https://localhost:8080/"
        },
        "outputId": "0a71cb67-5d6e-4371-db30-23f0471f4a25"
      },
      "source": [
        "apple['Date']= pd.to_datetime(apple['Date'])\n",
        "#답) apple.Date = pd.to_datetime(apple.Date)\n",
        "apple.info()"
      ],
      "execution_count": 71,
      "outputs": [
        {
          "output_type": "stream",
          "name": "stdout",
          "text": [
            "<class 'pandas.core.frame.DataFrame'>\n",
            "RangeIndex: 8465 entries, 0 to 8464\n",
            "Data columns (total 7 columns):\n",
            "Date         8465 non-null datetime64[ns]\n",
            "Open         8465 non-null float64\n",
            "High         8465 non-null float64\n",
            "Low          8465 non-null float64\n",
            "Close        8465 non-null float64\n",
            "Volume       8465 non-null int64\n",
            "Adj Close    8465 non-null float64\n",
            "dtypes: datetime64[ns](1), float64(5), int64(1)\n",
            "memory usage: 463.0 KB\n"
          ]
        }
      ]
    },
    {
      "cell_type": "markdown",
      "metadata": {
        "id": "KnpuOPx1VXJn"
      },
      "source": [
        "### Step 6.  Set the date as the index"
      ]
    },
    {
      "cell_type": "code",
      "metadata": {
        "id": "0w3vVnNTVXJp",
        "colab": {
          "base_uri": "https://localhost:8080/",
          "height": 234
        },
        "outputId": "f4496e69-0771-4639-8f0a-d763cde5e085"
      },
      "source": [
        "apple = apple.set_index('Date')\n",
        "\n",
        "apple.head()"
      ],
      "execution_count": 72,
      "outputs": [
        {
          "output_type": "execute_result",
          "data": {
            "text/plain": [
              "             Open   High    Low  Close    Volume  Adj Close\n",
              "Date                                                       \n",
              "2014-07-08  96.27  96.80  93.92  95.35  65130000      95.35\n",
              "2014-07-07  94.14  95.99  94.10  95.97  56305400      95.97\n",
              "2014-07-03  93.67  94.10  93.20  94.03  22891800      94.03\n",
              "2014-07-02  93.87  94.06  93.09  93.48  28420900      93.48\n",
              "2014-07-01  93.52  94.07  93.13  93.52  38170200      93.52"
            ],
            "text/html": [
              "<div>\n",
              "<style scoped>\n",
              "    .dataframe tbody tr th:only-of-type {\n",
              "        vertical-align: middle;\n",
              "    }\n",
              "\n",
              "    .dataframe tbody tr th {\n",
              "        vertical-align: top;\n",
              "    }\n",
              "\n",
              "    .dataframe thead th {\n",
              "        text-align: right;\n",
              "    }\n",
              "</style>\n",
              "<table border=\"1\" class=\"dataframe\">\n",
              "  <thead>\n",
              "    <tr style=\"text-align: right;\">\n",
              "      <th></th>\n",
              "      <th>Open</th>\n",
              "      <th>High</th>\n",
              "      <th>Low</th>\n",
              "      <th>Close</th>\n",
              "      <th>Volume</th>\n",
              "      <th>Adj Close</th>\n",
              "    </tr>\n",
              "    <tr>\n",
              "      <th>Date</th>\n",
              "      <th></th>\n",
              "      <th></th>\n",
              "      <th></th>\n",
              "      <th></th>\n",
              "      <th></th>\n",
              "      <th></th>\n",
              "    </tr>\n",
              "  </thead>\n",
              "  <tbody>\n",
              "    <tr>\n",
              "      <th>2014-07-08</th>\n",
              "      <td>96.27</td>\n",
              "      <td>96.80</td>\n",
              "      <td>93.92</td>\n",
              "      <td>95.35</td>\n",
              "      <td>65130000</td>\n",
              "      <td>95.35</td>\n",
              "    </tr>\n",
              "    <tr>\n",
              "      <th>2014-07-07</th>\n",
              "      <td>94.14</td>\n",
              "      <td>95.99</td>\n",
              "      <td>94.10</td>\n",
              "      <td>95.97</td>\n",
              "      <td>56305400</td>\n",
              "      <td>95.97</td>\n",
              "    </tr>\n",
              "    <tr>\n",
              "      <th>2014-07-03</th>\n",
              "      <td>93.67</td>\n",
              "      <td>94.10</td>\n",
              "      <td>93.20</td>\n",
              "      <td>94.03</td>\n",
              "      <td>22891800</td>\n",
              "      <td>94.03</td>\n",
              "    </tr>\n",
              "    <tr>\n",
              "      <th>2014-07-02</th>\n",
              "      <td>93.87</td>\n",
              "      <td>94.06</td>\n",
              "      <td>93.09</td>\n",
              "      <td>93.48</td>\n",
              "      <td>28420900</td>\n",
              "      <td>93.48</td>\n",
              "    </tr>\n",
              "    <tr>\n",
              "      <th>2014-07-01</th>\n",
              "      <td>93.52</td>\n",
              "      <td>94.07</td>\n",
              "      <td>93.13</td>\n",
              "      <td>93.52</td>\n",
              "      <td>38170200</td>\n",
              "      <td>93.52</td>\n",
              "    </tr>\n",
              "  </tbody>\n",
              "</table>\n",
              "</div>"
            ]
          },
          "metadata": {},
          "execution_count": 72
        }
      ]
    },
    {
      "cell_type": "markdown",
      "metadata": {
        "id": "gTAynxAuVXJq"
      },
      "source": [
        "### Step 7.  Is there any duplicate dates?"
      ]
    },
    {
      "cell_type": "code",
      "metadata": {
        "id": "X7CMs_b0VXJs",
        "colab": {
          "base_uri": "https://localhost:8080/"
        },
        "outputId": "1b4fcbee-36bf-4ab4-dd16-e709c2a0aeb3"
      },
      "source": [
        "apple.duplicated().sum() # 중복된 열들의 갯수를 반환"
      ],
      "execution_count": 73,
      "outputs": [
        {
          "output_type": "execute_result",
          "data": {
            "text/plain": [
              "0"
            ]
          },
          "metadata": {},
          "execution_count": 73
        }
      ]
    },
    {
      "cell_type": "code",
      "metadata": {
        "colab": {
          "base_uri": "https://localhost:8080/"
        },
        "id": "5f4Ubkn9KL5b",
        "outputId": "232c88bb-06d2-46e0-d103-caa08383404a"
      },
      "source": [
        "#답)\n",
        "apple.index.is_unique # duplicate의 여부를 알려줌"
      ],
      "execution_count": 74,
      "outputs": [
        {
          "output_type": "execute_result",
          "data": {
            "text/plain": [
              "True"
            ]
          },
          "metadata": {},
          "execution_count": 74
        }
      ]
    },
    {
      "cell_type": "markdown",
      "metadata": {
        "id": "hwzw_ul_VXJt"
      },
      "source": [
        "### Step 8.  Ops...it seems the index is from the most recent date. Make the first entry the oldest date."
      ]
    },
    {
      "cell_type": "code",
      "metadata": {
        "id": "4-JjpkhjVXJv",
        "colab": {
          "base_uri": "https://localhost:8080/",
          "height": 234
        },
        "outputId": "e3c3def7-ed53-4e14-cafb-074cf4529d92"
      },
      "source": [
        "apple.sort_index(ascending = True).head()"
      ],
      "execution_count": 75,
      "outputs": [
        {
          "output_type": "execute_result",
          "data": {
            "text/plain": [
              "             Open   High    Low  Close     Volume  Adj Close\n",
              "Date                                                        \n",
              "1980-12-12  28.75  28.87  28.75  28.75  117258400       0.45\n",
              "1980-12-15  27.38  27.38  27.25  27.25   43971200       0.42\n",
              "1980-12-16  25.37  25.37  25.25  25.25   26432000       0.39\n",
              "1980-12-17  25.87  26.00  25.87  25.87   21610400       0.40\n",
              "1980-12-18  26.63  26.75  26.63  26.63   18362400       0.41"
            ],
            "text/html": [
              "<div>\n",
              "<style scoped>\n",
              "    .dataframe tbody tr th:only-of-type {\n",
              "        vertical-align: middle;\n",
              "    }\n",
              "\n",
              "    .dataframe tbody tr th {\n",
              "        vertical-align: top;\n",
              "    }\n",
              "\n",
              "    .dataframe thead th {\n",
              "        text-align: right;\n",
              "    }\n",
              "</style>\n",
              "<table border=\"1\" class=\"dataframe\">\n",
              "  <thead>\n",
              "    <tr style=\"text-align: right;\">\n",
              "      <th></th>\n",
              "      <th>Open</th>\n",
              "      <th>High</th>\n",
              "      <th>Low</th>\n",
              "      <th>Close</th>\n",
              "      <th>Volume</th>\n",
              "      <th>Adj Close</th>\n",
              "    </tr>\n",
              "    <tr>\n",
              "      <th>Date</th>\n",
              "      <th></th>\n",
              "      <th></th>\n",
              "      <th></th>\n",
              "      <th></th>\n",
              "      <th></th>\n",
              "      <th></th>\n",
              "    </tr>\n",
              "  </thead>\n",
              "  <tbody>\n",
              "    <tr>\n",
              "      <th>1980-12-12</th>\n",
              "      <td>28.75</td>\n",
              "      <td>28.87</td>\n",
              "      <td>28.75</td>\n",
              "      <td>28.75</td>\n",
              "      <td>117258400</td>\n",
              "      <td>0.45</td>\n",
              "    </tr>\n",
              "    <tr>\n",
              "      <th>1980-12-15</th>\n",
              "      <td>27.38</td>\n",
              "      <td>27.38</td>\n",
              "      <td>27.25</td>\n",
              "      <td>27.25</td>\n",
              "      <td>43971200</td>\n",
              "      <td>0.42</td>\n",
              "    </tr>\n",
              "    <tr>\n",
              "      <th>1980-12-16</th>\n",
              "      <td>25.37</td>\n",
              "      <td>25.37</td>\n",
              "      <td>25.25</td>\n",
              "      <td>25.25</td>\n",
              "      <td>26432000</td>\n",
              "      <td>0.39</td>\n",
              "    </tr>\n",
              "    <tr>\n",
              "      <th>1980-12-17</th>\n",
              "      <td>25.87</td>\n",
              "      <td>26.00</td>\n",
              "      <td>25.87</td>\n",
              "      <td>25.87</td>\n",
              "      <td>21610400</td>\n",
              "      <td>0.40</td>\n",
              "    </tr>\n",
              "    <tr>\n",
              "      <th>1980-12-18</th>\n",
              "      <td>26.63</td>\n",
              "      <td>26.75</td>\n",
              "      <td>26.63</td>\n",
              "      <td>26.63</td>\n",
              "      <td>18362400</td>\n",
              "      <td>0.41</td>\n",
              "    </tr>\n",
              "  </tbody>\n",
              "</table>\n",
              "</div>"
            ]
          },
          "metadata": {},
          "execution_count": 75
        }
      ]
    },
    {
      "cell_type": "markdown",
      "metadata": {
        "id": "eRY2W2hfVXJv"
      },
      "source": [
        "### Step 9. Get the last business day of each month"
      ]
    },
    {
      "cell_type": "code",
      "metadata": {
        "id": "APU643vIVXJx",
        "colab": {
          "base_uri": "https://localhost:8080/"
        },
        "outputId": "245b6b98-e734-4240-97fd-714080fd0e57"
      },
      "source": [
        "# print(pd.date_range('1980-12-12', '2014-07-08', freq = 'BM'))\n",
        "# 그냥 우리 데이터를 고려하지 않은 last day 출력함\n",
        "print(pd.date_range('1980-12-12', '2014-07-08', freq = 'BM'))"
      ],
      "execution_count": 19,
      "outputs": [
        {
          "output_type": "stream",
          "name": "stdout",
          "text": [
            "DatetimeIndex(['1980-12-31', '1981-01-30', '1981-02-27', '1981-03-31',\n",
            "               '1981-04-30', '1981-05-29', '1981-06-30', '1981-07-31',\n",
            "               '1981-08-31', '1981-09-30',\n",
            "               ...\n",
            "               '2013-09-30', '2013-10-31', '2013-11-29', '2013-12-31',\n",
            "               '2014-01-31', '2014-02-28', '2014-03-31', '2014-04-30',\n",
            "               '2014-05-30', '2014-06-30'],\n",
            "              dtype='datetime64[ns]', length=403, freq='BM')\n"
          ]
        }
      ]
    },
    {
      "cell_type": "code",
      "metadata": {
        "colab": {
          "base_uri": "https://localhost:8080/",
          "height": 234
        },
        "id": "HLc16WJKLqoh",
        "outputId": "5db0ca29-7921-4118-b7f1-abcc57fe6717"
      },
      "source": [
        "#답)\n",
        "apple_month = apple.resample('BM').mean()\n",
        "\n",
        "apple_month.head()"
      ],
      "execution_count": 76,
      "outputs": [
        {
          "output_type": "execute_result",
          "data": {
            "text/plain": [
              "                 Open       High        Low      Close        Volume  \\\n",
              "Date                                                                   \n",
              "1980-12-31  30.481538  30.567692  30.443077  30.443077  2.586252e+07   \n",
              "1981-01-30  31.754762  31.826667  31.654762  31.654762  7.249867e+06   \n",
              "1981-02-27  26.480000  26.572105  26.407895  26.407895  4.231832e+06   \n",
              "1981-03-31  24.937727  25.016818  24.836364  24.836364  7.962691e+06   \n",
              "1981-04-30  27.286667  27.368095  27.227143  27.227143  6.392000e+06   \n",
              "\n",
              "            Adj Close  \n",
              "Date                   \n",
              "1980-12-31   0.473077  \n",
              "1981-01-30   0.493810  \n",
              "1981-02-27   0.411053  \n",
              "1981-03-31   0.387727  \n",
              "1981-04-30   0.423333  "
            ],
            "text/html": [
              "<div>\n",
              "<style scoped>\n",
              "    .dataframe tbody tr th:only-of-type {\n",
              "        vertical-align: middle;\n",
              "    }\n",
              "\n",
              "    .dataframe tbody tr th {\n",
              "        vertical-align: top;\n",
              "    }\n",
              "\n",
              "    .dataframe thead th {\n",
              "        text-align: right;\n",
              "    }\n",
              "</style>\n",
              "<table border=\"1\" class=\"dataframe\">\n",
              "  <thead>\n",
              "    <tr style=\"text-align: right;\">\n",
              "      <th></th>\n",
              "      <th>Open</th>\n",
              "      <th>High</th>\n",
              "      <th>Low</th>\n",
              "      <th>Close</th>\n",
              "      <th>Volume</th>\n",
              "      <th>Adj Close</th>\n",
              "    </tr>\n",
              "    <tr>\n",
              "      <th>Date</th>\n",
              "      <th></th>\n",
              "      <th></th>\n",
              "      <th></th>\n",
              "      <th></th>\n",
              "      <th></th>\n",
              "      <th></th>\n",
              "    </tr>\n",
              "  </thead>\n",
              "  <tbody>\n",
              "    <tr>\n",
              "      <th>1980-12-31</th>\n",
              "      <td>30.481538</td>\n",
              "      <td>30.567692</td>\n",
              "      <td>30.443077</td>\n",
              "      <td>30.443077</td>\n",
              "      <td>2.586252e+07</td>\n",
              "      <td>0.473077</td>\n",
              "    </tr>\n",
              "    <tr>\n",
              "      <th>1981-01-30</th>\n",
              "      <td>31.754762</td>\n",
              "      <td>31.826667</td>\n",
              "      <td>31.654762</td>\n",
              "      <td>31.654762</td>\n",
              "      <td>7.249867e+06</td>\n",
              "      <td>0.493810</td>\n",
              "    </tr>\n",
              "    <tr>\n",
              "      <th>1981-02-27</th>\n",
              "      <td>26.480000</td>\n",
              "      <td>26.572105</td>\n",
              "      <td>26.407895</td>\n",
              "      <td>26.407895</td>\n",
              "      <td>4.231832e+06</td>\n",
              "      <td>0.411053</td>\n",
              "    </tr>\n",
              "    <tr>\n",
              "      <th>1981-03-31</th>\n",
              "      <td>24.937727</td>\n",
              "      <td>25.016818</td>\n",
              "      <td>24.836364</td>\n",
              "      <td>24.836364</td>\n",
              "      <td>7.962691e+06</td>\n",
              "      <td>0.387727</td>\n",
              "    </tr>\n",
              "    <tr>\n",
              "      <th>1981-04-30</th>\n",
              "      <td>27.286667</td>\n",
              "      <td>27.368095</td>\n",
              "      <td>27.227143</td>\n",
              "      <td>27.227143</td>\n",
              "      <td>6.392000e+06</td>\n",
              "      <td>0.423333</td>\n",
              "    </tr>\n",
              "  </tbody>\n",
              "</table>\n",
              "</div>"
            ]
          },
          "metadata": {},
          "execution_count": 76
        }
      ]
    },
    {
      "cell_type": "markdown",
      "metadata": {
        "id": "a9O6hmadVXJy"
      },
      "source": [
        "### Step 10.  What is the difference in days between the first day and the oldest"
      ]
    },
    {
      "cell_type": "code",
      "metadata": {
        "id": "HMGS16w9VXJy",
        "colab": {
          "base_uri": "https://localhost:8080/"
        },
        "outputId": "48950528-9db9-45b8-f357-12c351f54b0e"
      },
      "source": [
        "datetime(2014, 7, 8) - datetime(1980, 12, 12)"
      ],
      "execution_count": 27,
      "outputs": [
        {
          "output_type": "execute_result",
          "data": {
            "text/plain": [
              "datetime.timedelta(12261)"
            ]
          },
          "metadata": {},
          "execution_count": 27
        }
      ]
    },
    {
      "cell_type": "code",
      "metadata": {
        "colab": {
          "base_uri": "https://localhost:8080/"
        },
        "id": "BhvvOnd7Lw1F",
        "outputId": "9ff20315-07fa-41fc-f1f4-ef8d973e174c"
      },
      "source": [
        "#답)\n",
        "(apple.index.max() - apple.index.min()).days"
      ],
      "execution_count": 77,
      "outputs": [
        {
          "output_type": "execute_result",
          "data": {
            "text/plain": [
              "12261"
            ]
          },
          "metadata": {},
          "execution_count": 77
        }
      ]
    },
    {
      "cell_type": "markdown",
      "metadata": {
        "id": "Ey0zVGV5VXJz"
      },
      "source": [
        "### Step 11.  How many months in the data we have?"
      ]
    },
    {
      "cell_type": "code",
      "metadata": {
        "id": "Pxkdp6j-VXJz",
        "colab": {
          "base_uri": "https://localhost:8080/",
          "height": 203
        },
        "outputId": "1219377d-a3d9-4c87-8c94-392c4335f878"
      },
      "source": [
        "end_date = pd.to_datetime('2014-07-08')\n",
        "apple['Date'] = pd.to_datetime(apple['Date'])\n",
        "apple['month'] = ((end_date - apple['Date'])/np.timedelta64(1, 'M')).astype(int)\n",
        "apple.head()"
      ],
      "execution_count": 47,
      "outputs": [
        {
          "output_type": "execute_result",
          "data": {
            "text/plain": [
              "           Date   Open   High    Low  Close     Volume  Adj Close  month\n",
              "8464 1980-12-12  28.75  28.87  28.75  28.75  117258400       0.45    402\n",
              "8463 1980-12-15  27.38  27.38  27.25  27.25   43971200       0.42    402\n",
              "8462 1980-12-16  25.37  25.37  25.25  25.25   26432000       0.39    402\n",
              "8461 1980-12-17  25.87  26.00  25.87  25.87   21610400       0.40    402\n",
              "8460 1980-12-18  26.63  26.75  26.63  26.63   18362400       0.41    402"
            ],
            "text/html": [
              "<div>\n",
              "<style scoped>\n",
              "    .dataframe tbody tr th:only-of-type {\n",
              "        vertical-align: middle;\n",
              "    }\n",
              "\n",
              "    .dataframe tbody tr th {\n",
              "        vertical-align: top;\n",
              "    }\n",
              "\n",
              "    .dataframe thead th {\n",
              "        text-align: right;\n",
              "    }\n",
              "</style>\n",
              "<table border=\"1\" class=\"dataframe\">\n",
              "  <thead>\n",
              "    <tr style=\"text-align: right;\">\n",
              "      <th></th>\n",
              "      <th>Date</th>\n",
              "      <th>Open</th>\n",
              "      <th>High</th>\n",
              "      <th>Low</th>\n",
              "      <th>Close</th>\n",
              "      <th>Volume</th>\n",
              "      <th>Adj Close</th>\n",
              "      <th>month</th>\n",
              "    </tr>\n",
              "  </thead>\n",
              "  <tbody>\n",
              "    <tr>\n",
              "      <th>8464</th>\n",
              "      <td>1980-12-12</td>\n",
              "      <td>28.75</td>\n",
              "      <td>28.87</td>\n",
              "      <td>28.75</td>\n",
              "      <td>28.75</td>\n",
              "      <td>117258400</td>\n",
              "      <td>0.45</td>\n",
              "      <td>402</td>\n",
              "    </tr>\n",
              "    <tr>\n",
              "      <th>8463</th>\n",
              "      <td>1980-12-15</td>\n",
              "      <td>27.38</td>\n",
              "      <td>27.38</td>\n",
              "      <td>27.25</td>\n",
              "      <td>27.25</td>\n",
              "      <td>43971200</td>\n",
              "      <td>0.42</td>\n",
              "      <td>402</td>\n",
              "    </tr>\n",
              "    <tr>\n",
              "      <th>8462</th>\n",
              "      <td>1980-12-16</td>\n",
              "      <td>25.37</td>\n",
              "      <td>25.37</td>\n",
              "      <td>25.25</td>\n",
              "      <td>25.25</td>\n",
              "      <td>26432000</td>\n",
              "      <td>0.39</td>\n",
              "      <td>402</td>\n",
              "    </tr>\n",
              "    <tr>\n",
              "      <th>8461</th>\n",
              "      <td>1980-12-17</td>\n",
              "      <td>25.87</td>\n",
              "      <td>26.00</td>\n",
              "      <td>25.87</td>\n",
              "      <td>25.87</td>\n",
              "      <td>21610400</td>\n",
              "      <td>0.40</td>\n",
              "      <td>402</td>\n",
              "    </tr>\n",
              "    <tr>\n",
              "      <th>8460</th>\n",
              "      <td>1980-12-18</td>\n",
              "      <td>26.63</td>\n",
              "      <td>26.75</td>\n",
              "      <td>26.63</td>\n",
              "      <td>26.63</td>\n",
              "      <td>18362400</td>\n",
              "      <td>0.41</td>\n",
              "      <td>402</td>\n",
              "    </tr>\n",
              "  </tbody>\n",
              "</table>\n",
              "</div>"
            ]
          },
          "metadata": {},
          "execution_count": 47
        }
      ]
    },
    {
      "cell_type": "code",
      "metadata": {
        "colab": {
          "base_uri": "https://localhost:8080/"
        },
        "id": "paWbq3uKL55r",
        "outputId": "ddcab8f0-bdb9-4040-889f-bad61e9691ca"
      },
      "source": [
        "#답)\n",
        "apple_months = apple.resample('BM').mean()\n",
        "\n",
        "len(apple_months.index)"
      ],
      "execution_count": 78,
      "outputs": [
        {
          "output_type": "execute_result",
          "data": {
            "text/plain": [
              "404"
            ]
          },
          "metadata": {},
          "execution_count": 78
        }
      ]
    },
    {
      "cell_type": "markdown",
      "metadata": {
        "id": "zXIBNkMFVXJ0"
      },
      "source": [
        "### Step 12. Plot the 'Adj Close' value. Set the size of the figure to 13.5 x 9 inches"
      ]
    },
    {
      "cell_type": "code",
      "metadata": {
        "id": "bvsp15_IVXJ1",
        "colab": {
          "base_uri": "https://localhost:8080/",
          "height": 433
        },
        "outputId": "ef738cc2-de4b-4a07-d47b-43ca078d4929"
      },
      "source": [
        "# makes the plot and assign it to a variable\n",
        "appl_open = apple['Adj Close'].plot(title = \"Apple Stock\")\n",
        "\n",
        "# changes the size of the graph\n",
        "fig = appl_open.get_figure()\n",
        "fig.set_size_inches(13.5, 9)"
      ],
      "execution_count": 79,
      "outputs": [
        {
          "output_type": "display_data",
          "data": {
            "image/png": "[encoded data removed]",
            "text/plain": [
              "<Figure size 972x648 with 1 Axes>"
            ]
          },
          "metadata": {
            "needs_background": "light"
          }
        }
      ]
    },
    {
      "cell_type": "markdown",
      "metadata": {
        "id": "HkbV1u8eVXJ1"
      },
      "source": [
        "### BONUS: Create your own question and answer it."
      ]
    },
    {
      "cell_type": "code",
      "metadata": {
        "collapsed": true,
        "id": "sElreOuNVXJ1"
      },
      "source": [
        ""
      ],
      "execution_count": null,
      "outputs": []
    }
  ]
}